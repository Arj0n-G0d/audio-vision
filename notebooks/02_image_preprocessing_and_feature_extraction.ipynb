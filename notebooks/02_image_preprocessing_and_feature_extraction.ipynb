{
 "cells": [
  {
   "cell_type": "code",
   "execution_count": 45,
   "id": "55e1815e-0d62-471d-a095-8081dbd4fbae",
   "metadata": {},
   "outputs": [],
   "source": [
    "import matplotlib.pyplot as plt\n",
    "import librosa as lb\n",
    "import numpy as np\n",
    "import pandas as pd\n",
    "import yaml\n",
    "import os\n",
    "\n",
    "# Getting the values from config file\n",
    "with open(\"../config.yaml\") as file:\n",
    "    config = yaml.safe_load(file)\n",
    "    \n",
    "# Important paths ;)\n",
    "dirPath = config[\"paths\"][\"audioData\"]\n",
    "csvPath = dirPath + \"/dataset.csv\"\n",
    "\n",
    "# Number of MFC Coeffs\n",
    "numOfMFCCoeffs = config[\"preprocessing\"][\"numOfMFCCoeffs\"]\n",
    "\n",
    "# Hop Length\n",
    "hopLength = config[\"preprocessing\"][\"hopLength\"]"
   ]
  },
  {
   "cell_type": "code",
   "execution_count": 46,
   "id": "122a74da-cd3e-47ab-a026-bcd2fb5b83c2",
   "metadata": {},
   "outputs": [
    {
     "data": {
      "text/html": [
       "<div>\n",
       "<style scoped>\n",
       "    .dataframe tbody tr th:only-of-type {\n",
       "        vertical-align: middle;\n",
       "    }\n",
       "\n",
       "    .dataframe tbody tr th {\n",
       "        vertical-align: top;\n",
       "    }\n",
       "\n",
       "    .dataframe thead th {\n",
       "        text-align: right;\n",
       "    }\n",
       "</style>\n",
       "<table border=\"1\" class=\"dataframe\">\n",
       "  <thead>\n",
       "    <tr style=\"text-align: right;\">\n",
       "      <th></th>\n",
       "      <th>audio_file_path</th>\n",
       "      <th>class</th>\n",
       "    </tr>\n",
       "  </thead>\n",
       "  <tbody>\n",
       "    <tr>\n",
       "      <th>0</th>\n",
       "      <td>/home/g0d/Downloads/UrbanSound8K/fold5/100032-...</td>\n",
       "      <td>dog_bark</td>\n",
       "    </tr>\n",
       "    <tr>\n",
       "      <th>1</th>\n",
       "      <td>/home/g0d/Downloads/UrbanSound8K/fold5/100263-...</td>\n",
       "      <td>children_playing</td>\n",
       "    </tr>\n",
       "    <tr>\n",
       "      <th>2</th>\n",
       "      <td>/home/g0d/Downloads/UrbanSound8K/fold5/100263-...</td>\n",
       "      <td>children_playing</td>\n",
       "    </tr>\n",
       "    <tr>\n",
       "      <th>3</th>\n",
       "      <td>/home/g0d/Downloads/UrbanSound8K/fold5/100263-...</td>\n",
       "      <td>children_playing</td>\n",
       "    </tr>\n",
       "    <tr>\n",
       "      <th>4</th>\n",
       "      <td>/home/g0d/Downloads/UrbanSound8K/fold5/100263-...</td>\n",
       "      <td>children_playing</td>\n",
       "    </tr>\n",
       "    <tr>\n",
       "      <th>5</th>\n",
       "      <td>/home/g0d/Downloads/UrbanSound8K/fold5/100263-...</td>\n",
       "      <td>children_playing</td>\n",
       "    </tr>\n",
       "    <tr>\n",
       "      <th>6</th>\n",
       "      <td>/home/g0d/Downloads/UrbanSound8K/fold5/100263-...</td>\n",
       "      <td>children_playing</td>\n",
       "    </tr>\n",
       "    <tr>\n",
       "      <th>7</th>\n",
       "      <td>/home/g0d/Downloads/UrbanSound8K/fold5/100263-...</td>\n",
       "      <td>children_playing</td>\n",
       "    </tr>\n",
       "    <tr>\n",
       "      <th>8</th>\n",
       "      <td>/home/g0d/Downloads/UrbanSound8K/fold5/100263-...</td>\n",
       "      <td>children_playing</td>\n",
       "    </tr>\n",
       "    <tr>\n",
       "      <th>9</th>\n",
       "      <td>/home/g0d/Downloads/UrbanSound8K/fold10/100648...</td>\n",
       "      <td>car_horn</td>\n",
       "    </tr>\n",
       "  </tbody>\n",
       "</table>\n",
       "</div>"
      ],
      "text/plain": [
       "                                     audio_file_path             class\n",
       "0  /home/g0d/Downloads/UrbanSound8K/fold5/100032-...          dog_bark\n",
       "1  /home/g0d/Downloads/UrbanSound8K/fold5/100263-...  children_playing\n",
       "2  /home/g0d/Downloads/UrbanSound8K/fold5/100263-...  children_playing\n",
       "3  /home/g0d/Downloads/UrbanSound8K/fold5/100263-...  children_playing\n",
       "4  /home/g0d/Downloads/UrbanSound8K/fold5/100263-...  children_playing\n",
       "5  /home/g0d/Downloads/UrbanSound8K/fold5/100263-...  children_playing\n",
       "6  /home/g0d/Downloads/UrbanSound8K/fold5/100263-...  children_playing\n",
       "7  /home/g0d/Downloads/UrbanSound8K/fold5/100263-...  children_playing\n",
       "8  /home/g0d/Downloads/UrbanSound8K/fold5/100263-...  children_playing\n",
       "9  /home/g0d/Downloads/UrbanSound8K/fold10/100648...          car_horn"
      ]
     },
     "execution_count": 46,
     "metadata": {},
     "output_type": "execute_result"
    }
   ],
   "source": [
    "# Load the csv file\n",
    "df = pd.read_csv(csvPath)\n",
    "df.head(10)"
   ]
  },
  {
   "cell_type": "markdown",
   "id": "11fb7ac0-34fe-4b1b-a3c8-1dabd053096f",
   "metadata": {},
   "source": [
    "# 📂 Dataset Creation  \n",
    "\n",
    "The existing `dataset.csv` in the `audioData` directory is **not needed** for our purpose.  \n",
    "\n",
    "🔄 Instead, we will **create a new `dataset.csv`** in the `imageData` directory, which will contain:  \n",
    "\n",
    "📌 **Columns:**  \n",
    "- 🖼️ **image_file_path** – Path to the spectrogram image  \n",
    "- 🎭 **class** – Corresponding class  "
   ]
  },
  {
   "cell_type": "code",
   "execution_count": 47,
   "id": "ed763897-957b-4a51-b140-0cbf8bb20084",
   "metadata": {},
   "outputs": [],
   "source": [
    "# Important paths ;)\n",
    "dirPath = config[\"paths\"][\"imageData\"]\n",
    "csvPath = dirPath + \"dataset.csv\"\n",
    "\n",
    "# Creating a new dataset\n",
    "dataset = pd.DataFrame(columns = [\"image_file_path\", \"class\"])\n",
    "\n",
    "# Iterating the original dataset\n",
    "for i in range(len(df)) :\n",
    "    audio_file_path = os.path.join(dirPath, df.loc[i][\"class\"], os.path.basename(df.loc[i][\"audio_file_path\"]).split(\".\")[0] + \"_Spectrogram.png\")\n",
    "    dataset.loc[i] = [audio_file_path, df.loc[i][\"class\"]]"
   ]
  },
  {
   "cell_type": "code",
   "execution_count": 48,
   "id": "56d06d7f-c1ce-4c8d-a5f4-6de785fe73be",
   "metadata": {},
   "outputs": [],
   "source": [
    "# Saving the dataset\n",
    "dataset.to_csv(os.path.join(dirPath, \"dataset.csv\"), index = False)"
   ]
  },
  {
   "cell_type": "code",
   "execution_count": 49,
   "id": "c6182e00-f904-4f52-ac83-03be6a418e4a",
   "metadata": {},
   "outputs": [
    {
     "data": {
      "text/html": [
       "<div>\n",
       "<style scoped>\n",
       "    .dataframe tbody tr th:only-of-type {\n",
       "        vertical-align: middle;\n",
       "    }\n",
       "\n",
       "    .dataframe tbody tr th {\n",
       "        vertical-align: top;\n",
       "    }\n",
       "\n",
       "    .dataframe thead th {\n",
       "        text-align: right;\n",
       "    }\n",
       "</style>\n",
       "<table border=\"1\" class=\"dataframe\">\n",
       "  <thead>\n",
       "    <tr style=\"text-align: right;\">\n",
       "      <th></th>\n",
       "      <th>image_file_path</th>\n",
       "      <th>class</th>\n",
       "    </tr>\n",
       "  </thead>\n",
       "  <tbody>\n",
       "    <tr>\n",
       "      <th>0</th>\n",
       "      <td>/home/g0d/Desktop/audio-vision/melSpectrograms...</td>\n",
       "      <td>dog_bark</td>\n",
       "    </tr>\n",
       "    <tr>\n",
       "      <th>1</th>\n",
       "      <td>/home/g0d/Desktop/audio-vision/melSpectrograms...</td>\n",
       "      <td>children_playing</td>\n",
       "    </tr>\n",
       "    <tr>\n",
       "      <th>2</th>\n",
       "      <td>/home/g0d/Desktop/audio-vision/melSpectrograms...</td>\n",
       "      <td>children_playing</td>\n",
       "    </tr>\n",
       "    <tr>\n",
       "      <th>3</th>\n",
       "      <td>/home/g0d/Desktop/audio-vision/melSpectrograms...</td>\n",
       "      <td>children_playing</td>\n",
       "    </tr>\n",
       "    <tr>\n",
       "      <th>4</th>\n",
       "      <td>/home/g0d/Desktop/audio-vision/melSpectrograms...</td>\n",
       "      <td>children_playing</td>\n",
       "    </tr>\n",
       "    <tr>\n",
       "      <th>5</th>\n",
       "      <td>/home/g0d/Desktop/audio-vision/melSpectrograms...</td>\n",
       "      <td>children_playing</td>\n",
       "    </tr>\n",
       "    <tr>\n",
       "      <th>6</th>\n",
       "      <td>/home/g0d/Desktop/audio-vision/melSpectrograms...</td>\n",
       "      <td>children_playing</td>\n",
       "    </tr>\n",
       "    <tr>\n",
       "      <th>7</th>\n",
       "      <td>/home/g0d/Desktop/audio-vision/melSpectrograms...</td>\n",
       "      <td>children_playing</td>\n",
       "    </tr>\n",
       "    <tr>\n",
       "      <th>8</th>\n",
       "      <td>/home/g0d/Desktop/audio-vision/melSpectrograms...</td>\n",
       "      <td>children_playing</td>\n",
       "    </tr>\n",
       "    <tr>\n",
       "      <th>9</th>\n",
       "      <td>/home/g0d/Desktop/audio-vision/melSpectrograms...</td>\n",
       "      <td>car_horn</td>\n",
       "    </tr>\n",
       "  </tbody>\n",
       "</table>\n",
       "</div>"
      ],
      "text/plain": [
       "                                     image_file_path             class\n",
       "0  /home/g0d/Desktop/audio-vision/melSpectrograms...          dog_bark\n",
       "1  /home/g0d/Desktop/audio-vision/melSpectrograms...  children_playing\n",
       "2  /home/g0d/Desktop/audio-vision/melSpectrograms...  children_playing\n",
       "3  /home/g0d/Desktop/audio-vision/melSpectrograms...  children_playing\n",
       "4  /home/g0d/Desktop/audio-vision/melSpectrograms...  children_playing\n",
       "5  /home/g0d/Desktop/audio-vision/melSpectrograms...  children_playing\n",
       "6  /home/g0d/Desktop/audio-vision/melSpectrograms...  children_playing\n",
       "7  /home/g0d/Desktop/audio-vision/melSpectrograms...  children_playing\n",
       "8  /home/g0d/Desktop/audio-vision/melSpectrograms...  children_playing\n",
       "9  /home/g0d/Desktop/audio-vision/melSpectrograms...          car_horn"
      ]
     },
     "execution_count": 49,
     "metadata": {},
     "output_type": "execute_result"
    }
   ],
   "source": [
    "# Loading the new dataset again to check ;)\n",
    "df = pd.read_csv(os.path.join(dirPath, \"dataset.csv\"))\n",
    "df.head(10)"
   ]
  },
  {
   "cell_type": "code",
   "execution_count": 50,
   "id": "75e1b6a2-44c6-4d47-9797-da94d6b44b4a",
   "metadata": {},
   "outputs": [
    {
     "data": {
      "text/plain": [
       "'/home/g0d/Desktop/audio-vision/melSpectrograms/UrbanSound8K/dog_bark/100032-3-0-0_Spectrogram.png'"
      ]
     },
     "execution_count": 50,
     "metadata": {},
     "output_type": "execute_result"
    }
   ],
   "source": [
    "df.loc[0][\"image_file_path\"]"
   ]
  }
 ],
 "metadata": {
  "kernelspec": {
   "display_name": "Python 3 (ipykernel)",
   "language": "python",
   "name": "python3"
  },
  "language_info": {
   "codemirror_mode": {
    "name": "ipython",
    "version": 3
   },
   "file_extension": ".py",
   "mimetype": "text/x-python",
   "name": "python",
   "nbconvert_exporter": "python",
   "pygments_lexer": "ipython3",
   "version": "3.12.8"
  }
 },
 "nbformat": 4,
 "nbformat_minor": 5
}
